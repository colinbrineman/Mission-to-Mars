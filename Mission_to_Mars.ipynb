{
 "cells": [
  {
   "cell_type": "code",
   "execution_count": 1,
   "id": "58593ced",
   "metadata": {},
   "outputs": [],
   "source": [
    "# Import Splinter and BeautifulSoup\n",
    "from splinter import Browser\n",
    "from bs4 import BeautifulSoup as soup\n",
    "from webdriver_manager.chrome import ChromeDriverManager"
   ]
  },
  {
   "cell_type": "code",
   "execution_count": 2,
   "id": "d8953a10",
   "metadata": {},
   "outputs": [
    {
     "name": "stderr",
     "output_type": "stream",
     "text": [
      "\n",
      "\n",
      "====== WebDriver manager ======\n",
      "Current google-chrome version is 98.0.4758\n",
      "Get LATEST chromedriver version for 98.0.4758 google-chrome\n",
      "Driver [/Users/colinbrineman/.wdm/drivers/chromedriver/mac64/98.0.4758.80/chromedriver] found in cache\n"
     ]
    }
   ],
   "source": [
    "# Set executable path and browser\n",
    "executable_path = {'executable_path': ChromeDriverManager().install()}\n",
    "browser = Browser('chrome', **executable_path, headless=False)"
   ]
  },
  {
   "cell_type": "code",
   "execution_count": 3,
   "id": "9adb4a04",
   "metadata": {},
   "outputs": [
    {
     "data": {
      "text/plain": [
       "True"
      ]
     },
     "execution_count": 3,
     "metadata": {},
     "output_type": "execute_result"
    }
   ],
   "source": [
    "# Visit the Mars NASA news site\n",
    "url = 'https://redplanetscience.com'\n",
    "browser.visit(url)\n",
    "# Optional delay for loading the page\n",
    "browser.is_element_present_by_css('div.list_text', wait_time=1)"
   ]
  },
  {
   "cell_type": "markdown",
   "id": "808512b6",
   "metadata": {},
   "source": [
    "**browser.is_element_present_by_css('div.list_text', wait_time=1)**\n",
    "1. we're searching for elements with a specific combination of: tag (**div**) & attribute (**list_text**). for example, **ul.item_list** would be **\\<ul class=\"item_list\">** in html.\n",
    "2. telling our browser to wait one second before searching for components. optional delay is useful because sometimes dynamic pages take a little while to load, especially if they are image-heavy."
   ]
  },
  {
   "cell_type": "code",
   "execution_count": 4,
   "id": "690e19bb",
   "metadata": {},
   "outputs": [],
   "source": [
    "# Set up html parser\n",
    "html = browser.html\n",
    "news_soup = soup(html, 'html.parser')\n",
    "slide_elem = news_soup.select_one('div.list_text')"
   ]
  },
  {
   "cell_type": "markdown",
   "id": "4d9caf11",
   "metadata": {},
   "source": [
    "**slide_elem**\n",
    "- **slide_elem** assigned as variable to look for the **<div \\/>** tag and its \"descendent\" (i.e., the other tags within the **<div \\/> element**)?\n",
    "- **slide_elem** is our \"parent element\"\n",
    "- a parent elements element holds all of the other elements within it\n",
    "- we'll reference the parent element later when we want to filter search results even further\n",
    "\n",
    "dot (\".\")\n",
    "- used for selecting classes, such as **list_text**\n",
    "- the code **div.list_text** pinpoints the **<div \\/>** tag with the class of **list_text**\n",
    "\n",
    "**select_one**\n",
    "- CSS works \"from right to left\"\n",
    "- i.e., it returns the last item on the list instead of the first\n",
    "- when using **select_one**, the first matching element returned will be a **<li \\/>** element with a class of **slide** (and all nested elements within it)"
   ]
  },
  {
   "cell_type": "code",
   "execution_count": 8,
   "id": "b53b4279",
   "metadata": {
    "scrolled": true
   },
   "outputs": [
    {
     "data": {
      "text/plain": [
       "'Mars 2020 Stands on Its Own Six Wheels'"
      ]
     },
     "execution_count": 8,
     "metadata": {},
     "output_type": "execute_result"
    }
   ],
   "source": [
    "# Use the parent element to find 1st \"a\" tag & save it as \"news_title\"\n",
    "news_title = slide_elem.find('div', class_='content_title').get_text()\n",
    "news_title"
   ]
  },
  {
   "cell_type": "markdown",
   "id": "99bb3fa7",
   "metadata": {},
   "source": [
    "chaining **.get_text()** onto **.find()** onto **slide_elem**\n",
    "- **.find()** is used when we want only the first class and attribute we've specified\n",
    "- we're saying, \"the variable **slide_elem** holds a ton of information, so look inside of that information to find this specific data\"\n",
    "- we've specified that we're looking for the content title by saying, \"The specific data is in a **<div \\/>** with a class of **content_title**\n",
    "- **.get_text()** means we only want the text (no html code within tags)"
   ]
  },
  {
   "cell_type": "code",
   "execution_count": 9,
   "id": "71ba45d2",
   "metadata": {},
   "outputs": [
    {
     "data": {
      "text/plain": [
       "\"In time-lapse video, taken at JPL, captures the first time NASA's Mars 2020 rover carries its full weight on its legs and wheels.\""
      ]
     },
     "execution_count": 9,
     "metadata": {},
     "output_type": "execute_result"
    }
   ],
   "source": [
    "# Use the parent element to find the paragraph text\n",
    "news_p = slide_elem.find('div', class_='article_teaser_body').get_text()\n",
    "news_p"
   ]
  },
  {
   "cell_type": "code",
   "execution_count": null,
   "id": "79f51e87",
   "metadata": {},
   "outputs": [],
   "source": []
  }
 ],
 "metadata": {
  "kernelspec": {
   "display_name": "PythonData",
   "language": "python",
   "name": "pythondata"
  },
  "language_info": {
   "codemirror_mode": {
    "name": "ipython",
    "version": 3
   },
   "file_extension": ".py",
   "mimetype": "text/x-python",
   "name": "python",
   "nbconvert_exporter": "python",
   "pygments_lexer": "ipython3",
   "version": "3.9.7"
  }
 },
 "nbformat": 4,
 "nbformat_minor": 5
}
