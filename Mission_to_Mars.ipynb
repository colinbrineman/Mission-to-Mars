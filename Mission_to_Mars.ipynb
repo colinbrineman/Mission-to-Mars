{
 "cells": [
  {
   "cell_type": "markdown",
   "id": "9f410d85",
   "metadata": {},
   "source": [
    "# NASA's Mission to Mars"
   ]
  },
  {
   "cell_type": "code",
   "execution_count": 15,
   "id": "1616b33f",
   "metadata": {},
   "outputs": [],
   "source": [
    "# Import Splinter and BeautifulSoup\n",
    "from splinter import Browser\n",
    "from bs4 import BeautifulSoup as soup\n",
    "from webdriver_manager.chrome import ChromeDriverManager"
   ]
  },
  {
   "cell_type": "code",
   "execution_count": 16,
   "id": "e8ec4dcf",
   "metadata": {},
   "outputs": [
    {
     "name": "stderr",
     "output_type": "stream",
     "text": [
      "\n",
      "\n",
      "====== WebDriver manager ======\n",
      "Current google-chrome version is 98.0.4758\n",
      "Get LATEST chromedriver version for 98.0.4758 google-chrome\n",
      "Driver [/Users/colinbrineman/.wdm/drivers/chromedriver/mac64/98.0.4758.80/chromedriver] found in cache\n"
     ]
    }
   ],
   "source": [
    "# Set executable path and browser\n",
    "executable_path = {'executable_path': ChromeDriverManager().install()}\n",
    "browser = Browser('chrome', **executable_path, headless=False)"
   ]
  },
  {
   "cell_type": "markdown",
   "id": "330db0ff",
   "metadata": {},
   "source": [
    "## Scrape articles from MARS Planet Science"
   ]
  },
  {
   "cell_type": "code",
   "execution_count": 17,
   "id": "c65a4f40",
   "metadata": {},
   "outputs": [
    {
     "data": {
      "text/plain": [
       "True"
      ]
     },
     "execution_count": 17,
     "metadata": {},
     "output_type": "execute_result"
    }
   ],
   "source": [
    "# Visit the Mars NASA news site\n",
    "url = 'https://redplanetscience.com'\n",
    "browser.visit(url)\n",
    "# Optional delay for loading the page\n",
    "browser.is_element_present_by_css('div.list_text', wait_time=1)"
   ]
  },
  {
   "cell_type": "markdown",
   "id": "86c1329a",
   "metadata": {},
   "source": [
    "**browser.is_element_present_by_css('div.list_text', wait_time=1)**\n",
    "1. we're searching for elements with a specific combination of: tag (**div**) & attribute (**list_text**). for example, **ul.item_list** would be **\\<ul class=\"item_list\">** in html.\n",
    "2. telling our browser to wait one second before searching for components. optional delay is useful because sometimes dynamic pages take a little while to load, especially if they are image-heavy."
   ]
  },
  {
   "cell_type": "code",
   "execution_count": 18,
   "id": "0b458975",
   "metadata": {},
   "outputs": [],
   "source": [
    "# Set up html parser\n",
    "html = browser.html\n",
    "news_soup = soup(html, 'html.parser')\n",
    "slide_elem = news_soup.select_one('div.list_text')"
   ]
  },
  {
   "cell_type": "markdown",
   "id": "08aba92d",
   "metadata": {},
   "source": [
    "**slide_elem**\n",
    "- **slide_elem** assigned as variable to look for the **<div \\/>** tag and its \"descendent\" (i.e., the other tags within the **<div \\/> element**)?\n",
    "- **slide_elem** is our \"parent element\"\n",
    "- a parent elements element holds all of the other elements within it\n",
    "- we'll reference the parent element later when we want to filter search results even further\n",
    "\n",
    "dot (\".\")\n",
    "- used for selecting classes, such as **list_text**\n",
    "- the code **div.list_text** pinpoints the **<div \\/>** tag with the class of **list_text**\n",
    "\n",
    "**select_one**\n",
    "- CSS works \"from right to left\"\n",
    "- i.e., it returns the last item on the list instead of the first\n",
    "- when using **select_one**, the first matching element returned will be a **<li \\/>** element with a class of **slide** (and all nested elements within it)"
   ]
  },
  {
   "cell_type": "code",
   "execution_count": 19,
   "id": "195cff77",
   "metadata": {
    "scrolled": true
   },
   "outputs": [
    {
     "data": {
      "text/plain": [
       "\"NASA's New Mars Rover Is Ready for Space Lasers\""
      ]
     },
     "execution_count": 19,
     "metadata": {},
     "output_type": "execute_result"
    }
   ],
   "source": [
    "# Use the parent element to find 1st \"a\" tag & save it as \"news_title\"\n",
    "news_title = slide_elem.find('div', class_='content_title').get_text()\n",
    "news_title"
   ]
  },
  {
   "cell_type": "markdown",
   "id": "4ab22028",
   "metadata": {},
   "source": [
    "chaining **.get_text()** onto **.find()** onto **slide_elem**\n",
    "- **.find()** is used when we want only the first class and attribute we've specified\n",
    "- we're saying, \"the variable **slide_elem** holds a ton of information, so look inside of that information to find this specific data\"\n",
    "- we've specified that we're looking for the content title by saying, \"The specific data is in a **<div \\/>** with a class of **content_title**\n",
    "- **.get_text()** means we only want the text (no html code within tags)"
   ]
  },
  {
   "cell_type": "code",
   "execution_count": 20,
   "id": "d1666758",
   "metadata": {
    "scrolled": true
   },
   "outputs": [
    {
     "data": {
      "text/plain": [
       "'Perseverance is one of a few Mars spacecraft carrying laser retroreflectors. The devices could provide new science and safer Mars landings in the future.'"
      ]
     },
     "execution_count": 20,
     "metadata": {},
     "output_type": "execute_result"
    }
   ],
   "source": [
    "# Use the parent element to find the paragraph text\n",
    "news_p = slide_elem.find('div', class_='article_teaser_body').get_text()\n",
    "news_p"
   ]
  },
  {
   "cell_type": "markdown",
   "id": "932b329f",
   "metadata": {},
   "source": [
    "## Scrape images from Jet Propulsion Laboratory"
   ]
  },
  {
   "cell_type": "code",
   "execution_count": 21,
   "id": "49bf0115",
   "metadata": {},
   "outputs": [
    {
     "name": "stderr",
     "output_type": "stream",
     "text": [
      "\n",
      "\n",
      "====== WebDriver manager ======\n",
      "Current google-chrome version is 98.0.4758\n",
      "Get LATEST chromedriver version for 98.0.4758 google-chrome\n",
      "Driver [/Users/colinbrineman/.wdm/drivers/chromedriver/mac64/98.0.4758.80/chromedriver] found in cache\n"
     ]
    }
   ],
   "source": [
    "# Set executable path and browser\n",
    "executable_path = {'executable_path': ChromeDriverManager().install()}\n",
    "browser = Browser('chrome', **executable_path, headless=False)"
   ]
  },
  {
   "cell_type": "code",
   "execution_count": 22,
   "id": "d748be8f",
   "metadata": {
    "scrolled": true
   },
   "outputs": [],
   "source": [
    "# Visit URL\n",
    "url = 'https://spaceimages-mars.com'\n",
    "browser.visit(url)"
   ]
  },
  {
   "cell_type": "code",
   "execution_count": 23,
   "id": "fca5f50e",
   "metadata": {},
   "outputs": [],
   "source": [
    "# Find and click the full image button\n",
    "full_image_elem = browser.find_by_tag('button')[1]\n",
    "full_image_elem.click()"
   ]
  },
  {
   "cell_type": "markdown",
   "id": "a66d8ad7",
   "metadata": {},
   "source": [
    "indexing\n",
    "- chained at the end of the first line of code\n",
    "- stipulates that we want our browser to click the 2nd button\n",
    ".click()\n",
    "- Splinter method applied to variable to find button\n",
    "- tells Splinter to \"click\" the button"
   ]
  },
  {
   "cell_type": "code",
   "execution_count": 24,
   "id": "14beef5c",
   "metadata": {},
   "outputs": [],
   "source": [
    "# Parse the resulting html with soup\n",
    "html = browser.html\n",
    "img_soup = soup(html, 'html.parser')"
   ]
  },
  {
   "cell_type": "code",
   "execution_count": 25,
   "id": "e72db32f",
   "metadata": {},
   "outputs": [
    {
     "data": {
      "text/plain": [
       "'image/featured/mars3.jpg'"
      ]
     },
     "execution_count": 25,
     "metadata": {},
     "output_type": "execute_result"
    }
   ],
   "source": [
    "# Find the relative image url\n",
    "img_url_rel = img_soup.find('img', class_='fancybox-image').get('src')\n",
    "img_url_rel"
   ]
  },
  {
   "cell_type": "markdown",
   "id": "37288891",
   "metadata": {},
   "source": [
    "**.get('src')**\n",
    "- we're telling BeautifulSoup to look inside the **<img \\/>** tag for an image with a class of **fancybox-image**\n",
    "- **.get('src')** pulls the link to the image (designated by \"src\" in the tag)"
   ]
  },
  {
   "cell_type": "code",
   "execution_count": 26,
   "id": "e943b06d",
   "metadata": {},
   "outputs": [
    {
     "data": {
      "text/plain": [
       "'https://spaceimages-mars.com/image/featured/mars3.jpg'"
      ]
     },
     "execution_count": 26,
     "metadata": {},
     "output_type": "execute_result"
    }
   ],
   "source": [
    "# Use the base URL to create an absolute URL\n",
    "img_url = f'https://spaceimages-mars.com/{img_url_rel}'\n",
    "img_url"
   ]
  },
  {
   "cell_type": "code",
   "execution_count": null,
   "id": "3a4be7e1",
   "metadata": {},
   "outputs": [],
   "source": []
  }
 ],
 "metadata": {
  "kernelspec": {
   "display_name": "PythonData",
   "language": "python",
   "name": "pythondata"
  },
  "language_info": {
   "codemirror_mode": {
    "name": "ipython",
    "version": 3
   },
   "file_extension": ".py",
   "mimetype": "text/x-python",
   "name": "python",
   "nbconvert_exporter": "python",
   "pygments_lexer": "ipython3",
   "version": "3.9.7"
  }
 },
 "nbformat": 4,
 "nbformat_minor": 5
}
