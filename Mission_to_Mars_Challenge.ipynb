{
 "cells": [
  {
   "cell_type": "markdown",
   "metadata": {},
   "source": [
    "# Initial steps"
   ]
  },
  {
   "cell_type": "markdown",
   "metadata": {},
   "source": [
    "## Import dependencies"
   ]
  },
  {
   "cell_type": "code",
   "execution_count": 10,
   "metadata": {},
   "outputs": [],
   "source": [
    "from bs4 import BeautifulSoup as soup\n",
    "from html5print import HTMLBeautifier\n",
    "import pandas as pd\n",
    "from pprint import pprint\n",
    "from splinter import Browser\n",
    "from webdriver_manager.chrome import ChromeDriverManager"
   ]
  },
  {
   "cell_type": "markdown",
   "metadata": {},
   "source": [
    "## Initialize Splinter"
   ]
  },
  {
   "cell_type": "code",
   "execution_count": 11,
   "metadata": {},
   "outputs": [
    {
     "name": "stderr",
     "output_type": "stream",
     "text": [
      "\n",
      "\n",
      "====== WebDriver manager ======\n",
      "Current google-chrome version is 98.0.4758\n",
      "Get LATEST chromedriver version for 98.0.4758 google-chrome\n",
      "Driver [/Users/colinbrineman/.wdm/drivers/chromedriver/mac64/98.0.4758.80/chromedriver] found in cache\n"
     ]
    }
   ],
   "source": [
    "executable_path = {'executable_path': ChromeDriverManager().install()}\n",
    "browser = Browser('chrome', **executable_path, headless=True)"
   ]
  },
  {
   "cell_type": "markdown",
   "metadata": {},
   "source": [
    "# Web scraping"
   ]
  },
  {
   "cell_type": "markdown",
   "id": "c540f246",
   "metadata": {},
   "source": [
    "## News article"
   ]
  },
  {
   "cell_type": "code",
   "execution_count": 12,
   "id": "40da4ed2",
   "metadata": {},
   "outputs": [],
   "source": [
    "url = 'https://redplanetscience.com'\n",
    "browser.visit(url)\n",
    "browser.is_element_present_by_css('div.list_text', wait_time=1)\n",
    "html = browser.html\n",
    "news_soup = soup(html, 'html.parser')\n",
    "slide_elem = news_soup.select_one('div.list_text')"
   ]
  },
  {
   "cell_type": "markdown",
   "metadata": {},
   "source": [
    "### Title"
   ]
  },
  {
   "cell_type": "code",
   "execution_count": 13,
   "metadata": {},
   "outputs": [
    {
     "name": "stdout",
     "output_type": "stream",
     "text": [
      "MAVEN Maps Electric Currents around Mars that are Fundamental to Atmospheric Loss\n"
     ]
    }
   ],
   "source": [
    "news_title = slide_elem.find('div', class_='content_title').get_text()\n",
    "print(news_title)"
   ]
  },
  {
   "cell_type": "markdown",
   "metadata": {},
   "source": [
    "### Paragraph"
   ]
  },
  {
   "cell_type": "code",
   "execution_count": 14,
   "id": "495ce213",
   "metadata": {},
   "outputs": [
    {
     "name": "stdout",
     "output_type": "stream",
     "text": [
      "Five years after NASA’s MAVEN spacecraft entered into orbit around Mars, data from the mission has led to the creation of a map of electric current systems in the Martian atmosphere.\n"
     ]
    }
   ],
   "source": [
    "news_p = slide_elem.find('div', class_='article_teaser_body').get_text()\n",
    "print(news_p)"
   ]
  },
  {
   "cell_type": "markdown",
   "metadata": {},
   "source": [
    "## Surface image"
   ]
  },
  {
   "cell_type": "code",
   "execution_count": 15,
   "id": "77729a82",
   "metadata": {
    "scrolled": true
   },
   "outputs": [
    {
     "name": "stdout",
     "output_type": "stream",
     "text": [
      "https://spaceimages-mars.com/image/featured/mars3.jpg\n"
     ]
    }
   ],
   "source": [
    "url = 'https://spaceimages-mars.com/'\n",
    "browser.visit(url)\n",
    "full_image_elem = browser.find_by_tag('button')[1]\n",
    "full_image_elem.click()\n",
    "html = browser.html\n",
    "img_soup = soup(html, 'html.parser')\n",
    "img_url_rel = img_soup.find('img', class_='fancybox-image').get('src')\n",
    "img_url = f'{url}{img_url_rel}'\n",
    "print(img_url)"
   ]
  },
  {
   "cell_type": "markdown",
   "id": "b751a327",
   "metadata": {},
   "source": [
    "## Facts table"
   ]
  },
  {
   "cell_type": "code",
   "execution_count": 16,
   "id": "6a1af1b6",
   "metadata": {},
   "outputs": [
    {
     "name": "stdout",
     "output_type": "stream",
     "text": [
      "<html>\n",
      "  <head>\n",
      "  </head>\n",
      "  <body>\n",
      "    <table border=\"1\" class=\"dataframe\">\n",
      "      <thead>\n",
      "        <tr style=\"text-align: right;\">\n",
      "          <th>\n",
      "          </th>\n",
      "          <th>\n",
      "            Mars\n",
      "          </th>\n",
      "          <th>\n",
      "            Earth\n",
      "          </th>\n",
      "        </tr>\n",
      "        <tr>\n",
      "          <th>\n",
      "            description\n",
      "          </th>\n",
      "          <th>\n",
      "          </th>\n",
      "          <th>\n",
      "          </th>\n",
      "        </tr>\n",
      "      </thead>\n",
      "      <tbody>\n",
      "        <tr>\n",
      "          <th>\n",
      "            Mars - Earth Comparison\n",
      "          </th>\n",
      "          <td>\n",
      "            Mars\n",
      "          </td>\n",
      "          <td>\n",
      "            Earth\n",
      "          </td>\n",
      "        </tr>\n",
      "        <tr>\n",
      "          <th>\n",
      "            Diameter:\n",
      "          </th>\n",
      "          <td>\n",
      "            6,779 km\n",
      "          </td>\n",
      "          <td>\n",
      "            12,742 km\n",
      "          </td>\n",
      "        </tr>\n",
      "        <tr>\n",
      "          <th>\n",
      "            Mass:\n",
      "          </th>\n",
      "          <td>\n",
      "            6.39 &times; 10^23 kg\n",
      "          </td>\n",
      "          <td>\n",
      "            5.97 &times; 10^24 kg\n",
      "          </td>\n",
      "        </tr>\n",
      "        <tr>\n",
      "          <th>\n",
      "            Moons:\n",
      "          </th>\n",
      "          <td>\n",
      "            2\n",
      "          </td>\n",
      "          <td>\n",
      "            1\n",
      "          </td>\n",
      "        </tr>\n",
      "        <tr>\n",
      "          <th>\n",
      "            Distance from Sun:\n",
      "          </th>\n",
      "          <td>\n",
      "            227,943,824 km\n",
      "          </td>\n",
      "          <td>\n",
      "            149,598,262 km\n",
      "          </td>\n",
      "        </tr>\n",
      "        <tr>\n",
      "          <th>\n",
      "            Length of Year:\n",
      "          </th>\n",
      "          <td>\n",
      "            687 Earth days\n",
      "          </td>\n",
      "          <td>\n",
      "            365.24 days\n",
      "          </td>\n",
      "        </tr>\n",
      "        <tr>\n",
      "          <th>\n",
      "            Temperature:\n",
      "          </th>\n",
      "          <td>\n",
      "            -87 to -5 &deg;C\n",
      "          </td>\n",
      "          <td>\n",
      "            -88 to 58&deg;C\n",
      "          </td>\n",
      "        </tr>\n",
      "      </tbody>\n",
      "    </table>\n",
      "  </body>\n",
      "</html>\n",
      "\n"
     ]
    }
   ],
   "source": [
    "df = pd.read_html('https://galaxyfacts-mars.com')[0]\n",
    "df.columns=['description', 'Mars', 'Earth']\n",
    "df.set_index('description', inplace=True)\n",
    "print(HTMLBeautifier.beautify(df.to_html()))"
   ]
  },
  {
   "cell_type": "markdown",
   "metadata": {},
   "source": [
    "## Hemisphere images"
   ]
  },
  {
   "cell_type": "code",
   "execution_count": 17,
   "metadata": {},
   "outputs": [
    {
     "name": "stdout",
     "output_type": "stream",
     "text": [
      "[{'img_url': 'https://marshemispheres.com/images/f5e372a36edfa389625da6d0cc25d905_cerberus_enhanced.tif_full.jpg',\n",
      "  'title': 'Cerberus Hemisphere Enhanced'},\n",
      " {'img_url': 'https://marshemispheres.com/images/3778f7b43bbbc89d6e3cfabb3613ba93_schiaparelli_enhanced.tif_full.jpg',\n",
      "  'title': 'Schiaparelli Hemisphere Enhanced'},\n",
      " {'img_url': 'https://marshemispheres.com/images/555e6403a6ddd7ba16ddb0e471cadcf7_syrtis_major_enhanced.tif_full.jpg',\n",
      "  'title': 'Syrtis Major Hemisphere Enhanced'},\n",
      " {'img_url': 'https://marshemispheres.com/images/b3c7c6c9138f57b4756be9b9c43e3a48_valles_marineris_enhanced.tif_full.jpg',\n",
      "  'title': 'Valles Marineris Hemisphere Enhanced'}]\n"
     ]
    }
   ],
   "source": [
    "url = 'https://marshemispheres.com/'\n",
    "browser.visit(url)\n",
    "html = browser.html\n",
    "hemisphere_soup = soup(html, 'html.parser')\n",
    "items = hemisphere_soup.find_all('div', class_=\"item\")\n",
    "hemisphere_urls = []\n",
    "for item in items:\n",
    "    hemisphere_rel = item.a['href']\n",
    "    hemisphere_url = f'https://marshemispheres.com/{hemisphere_rel}'\n",
    "    hemisphere_urls.append(hemisphere_url)\n",
    "img_urls = []\n",
    "titles = []\n",
    "for hemisphere_url in hemisphere_urls:\n",
    "    browser.visit(hemisphere_url)\n",
    "    html = browser.html\n",
    "    imgs_soup = soup(html, 'html.parser')\n",
    "    img_rel = imgs_soup.find('img', class_='wide-image').get('src')\n",
    "    img_url = f'https://marshemispheres.com/{img_rel}'\n",
    "    img_urls.append(img_url)\n",
    "    title = imgs_soup.find('h2', class_='title').get_text()\n",
    "    titles.append(title)\n",
    "hemispheres = [{'image': i, 'caption': t} for i, t in zip(img_urls, titles)]\n",
    "pprint(hemispheres)"
   ]
  },
  {
   "cell_type": "markdown",
   "metadata": {},
   "source": [
    "# Quit browser"
   ]
  },
  {
   "cell_type": "code",
   "execution_count": 18,
   "metadata": {},
   "outputs": [],
   "source": [
    "browser.quit()"
   ]
  }
 ],
 "metadata": {
  "interpreter": {
   "hash": "4137a63e5a3d368e26660e57f0f6b94c634a20fbd448858d7a5d04597466edd1"
  },
  "kernelspec": {
   "display_name": "Python 3.10.0 ('CodingColin')",
   "language": "python",
   "name": "python3"
  },
  "language_info": {
   "codemirror_mode": {
    "name": "ipython",
    "version": 3
   },
   "file_extension": ".py",
   "mimetype": "text/x-python",
   "name": "python",
   "nbconvert_exporter": "python",
   "pygments_lexer": "ipython3",
   "version": "3.9.7"
  },
  "orig_nbformat": 4
 },
 "nbformat": 4,
 "nbformat_minor": 2
}
